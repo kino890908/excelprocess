{
 "cells": [
  {
   "cell_type": "code",
   "execution_count": 19,
   "metadata": {},
   "outputs": [],
   "source": [
    "import pandas as pd"
   ]
  },
  {
   "cell_type": "code",
   "execution_count": 20,
   "metadata": {},
   "outputs": [],
   "source": [
    "# 讀取原始Excel檔案\n",
    "excel_file = 'C:/Users/User/Desktop/RideTrack/0217/交接教學/phone.xls'  # 原始Excel檔案路徑及名稱\n",
    "# 讀取Gyroscope工作表\n",
    "gyro_df = pd.read_excel(excel_file, sheet_name='Gyroscope')\n",
    "# 將Gyroscope工作表的Time (s)欄位改名為Time (s)_Gyroscope\n",
    "gyro_df.rename(columns={'Time (s)': 'Time (s)_Gyroscope'}, inplace=True)\n",
    "\n",
    "# 讀取Accelerometer工作表\n",
    "acc_df = pd.read_excel(excel_file, sheet_name='Accelerometer')\n",
    "# 將Accelerometer工作表的Time (s)欄位改名為Time (s)_Accelerometer\n",
    "acc_df.rename(columns={'Time (s)': 'Time (s)_Accelerometer'}, inplace=True)"
   ]
  },
  {
   "cell_type": "code",
   "execution_count": 21,
   "metadata": {},
   "outputs": [],
   "source": [
    "# 重置Accelerometer工作表的索引\n",
    "acc_df.reset_index(drop=True, inplace=True)"
   ]
  },
  {
   "cell_type": "code",
   "execution_count": 22,
   "metadata": {},
   "outputs": [],
   "source": [
    "# 將Accelerometer工作表的內容添加到Gyroscope工作表後面\n",
    "gyro_acc_df = pd.concat([gyro_df, acc_df], axis=1)"
   ]
  },
  {
   "cell_type": "code",
   "execution_count": 23,
   "metadata": {},
   "outputs": [],
   "source": [
    "# 創建新的Excel檔案\n",
    "new_excel_file = 'C:/Users/User/Desktop/RideTrack/0217/交接教學/phone_new.xlsx'  # 新的Excel檔案路徑及名稱"
   ]
  },
  {
   "cell_type": "code",
   "execution_count": 24,
   "metadata": {},
   "outputs": [
    {
     "name": "stdout",
     "output_type": "stream",
     "text": [
      "資料已成功更新到新的 Excel 檔案中： C:/Users/User/Desktop/RideTrack/0217/交接教學/phone_new.xlsx\n"
     ]
    }
   ],
   "source": [
    "# 將Gyroscope和Accelerometer工作表的內容寫入新的Excel檔案\n",
    "with pd.ExcelWriter(new_excel_file, engine='openpyxl') as writer:\n",
    "    gyro_acc_df.to_excel(writer, sheet_name='Sheet1', index=False)\n",
    "\n",
    "print(\"資料已成功更新到新的 Excel 檔案中：\", new_excel_file)"
   ]
  },
  {
   "cell_type": "code",
   "execution_count": 25,
   "metadata": {},
   "outputs": [],
   "source": [
    "# 讀取新的Excel檔案\n",
    "df_new = pd.read_excel(new_excel_file)\n",
    "# 讀取新的Excel檔案\n",
    "excel_file = 'C:/Users/User/Desktop/RideTrack/0217/交接教學/phone_new.xlsx'  # 新的Excel檔案路徑及名稱\n",
    "sheet_name = 'Sheet1'  # 假設Gyroscope是你想要處理的工作表名稱\n",
    "df = pd.read_excel(excel_file, sheet_name=sheet_name)"
   ]
  },
  {
   "cell_type": "code",
   "execution_count": 26,
   "metadata": {},
   "outputs": [],
   "source": [
    "# 計算 delta t\n",
    "df['delta t'] = df['Time (s)_Gyroscope'].diff().fillna(0)\n",
    "df.loc[0, 'delta t'] = df.loc[0, 'Time (s)_Gyroscope']\n",
    "# 計算 Rad x, Rad y, Rad z\n",
    "df['Rad x'] = df['Gyroscope x (rad/s)'] * df['delta t']\n",
    "df['Rad y'] = df['Gyroscope y (rad/s)'] * df['delta t']\n",
    "df['Rad z'] = df['Gyroscope z (rad/s)'] * df['delta t']\n",
    "\n",
    "# 計算 degree x, degree y, degree z\n",
    "df['degree x'] = df['Rad x'] * (180 / 3.1415926535)\n",
    "df['degree y'] = df['Rad y'] * (180 / 3.1415926535)\n",
    "df['degree z'] = df['Rad z'] * (180 / 3.1415926535)\n"
   ]
  },
  {
   "cell_type": "code",
   "execution_count": 27,
   "metadata": {},
   "outputs": [
    {
     "name": "stdout",
     "output_type": "stream",
     "text": [
      "資料已成功更新到新的 Excel 檔案中： C:/Users/User/Desktop/RideTrack/0217/交接教學/phone_new_updated.xlsx\n"
     ]
    }
   ],
   "source": [
    "# 創建新的Excel檔案\n",
    "new_excel_file = 'C:/Users/User/Desktop/RideTrack/0217/交接教學/phone_new_updated.xlsx'  # 新的Excel檔案路徑及名稱\n",
    "# 將修改後的資料寫回Excel檔案\n",
    "with pd.ExcelWriter(new_excel_file, engine='openpyxl') as writer:\n",
    "    df.to_excel(writer, sheet_name=sheet_name, index=False)\n",
    "\n",
    "print(\"資料已成功更新到新的 Excel 檔案中：\", new_excel_file)"
   ]
  }
 ],
 "metadata": {
  "kernelspec": {
   "display_name": "motor",
   "language": "python",
   "name": "python3"
  },
  "language_info": {
   "codemirror_mode": {
    "name": "ipython",
    "version": 3
   },
   "file_extension": ".py",
   "mimetype": "text/x-python",
   "name": "python",
   "nbconvert_exporter": "python",
   "pygments_lexer": "ipython3",
   "version": "3.9.18"
  }
 },
 "nbformat": 4,
 "nbformat_minor": 2
}
